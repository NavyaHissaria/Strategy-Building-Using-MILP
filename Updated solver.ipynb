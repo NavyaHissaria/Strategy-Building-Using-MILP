{
  "cells": [
    {
      "cell_type": "markdown",
      "metadata": {
        "id": "cpnkFJGiajkz"
      },
      "source": [
        "## Installation"
      ]
    },
    {
      "cell_type": "code",
      "execution_count": null,
      "metadata": {
        "id": "XU4WBU3Eajk0"
      },
      "outputs": [],
      "source": [
        "%pip install -q pyomo\n",
        "!apt-get install coinor-cbc"
      ]
    },
    {
      "cell_type": "markdown",
      "metadata": {
        "id": "7j0JTbCuajk0"
      },
      "source": [
        "#### Initializing libraries and model"
      ]
    },
    {
      "cell_type": "code",
      "execution_count": 2,
      "metadata": {
        "id": "KAKPLgcvajk1"
      },
      "outputs": [],
      "source": [
        "from pyomo.environ import *\n",
        "import math\n",
        "model=ConcreteModel()\n",
        "model.constraints=ConstraintList()"
      ]
    },
    {
      "cell_type": "markdown",
      "metadata": {
        "id": "GqdRFKL7ajk1"
      },
      "source": [
        "# Modelling"
      ]
    },
    {
      "cell_type": "markdown",
      "metadata": {
        "id": "FHOg-i6hajk1"
      },
      "source": [
        "Add initial variables here, like importing the game files, the rules, etc, which are constants,or decided by the game"
      ]
    },
    {
      "cell_type": "code",
      "execution_count": 3,
      "metadata": {
        "id": "WAyNvcNKajk1"
      },
      "outputs": [],
      "source": [
        "n=10                                          #Number of match ticks\n",
        "E=[840,840,840,840,840,840,840,840,840,840]   #Enemy strength for each attack tick\n",
        "E[0]=0\n",
        "E[n-1]=100000\n",
        "T=2500                                        #Treasure required to reach victory\n",
        "V=[40,40,40,40,40,40,40,40,40,40]             #Number of jobs in each match tick\n",
        "Cg=10                                         #Amount of gold one can generate in each job for one job tick\n",
        "Cf=10                                         #Amount of food one can generate in each job for one job tick\n",
        "Ct=10                                         #Amount of treasure one can generate in each job for one job tick\n",
        "Tg=30                                         #Amount of gold required to train one soldier\n",
        "Tf=40                                         #Amount of food required to train one soldier\n",
        "M=10000000                                    #The big M we will be using\n",
        "Wininc=100000                                 #The army winning increase, needs to be optimized for better solution\n",
        "Str_Sol=84                                    #Strength of one soldier\n",
        "armyV_initial=84*24                           #Initialized as needed, the initial value of army\n",
        "initial_gold=700\n",
        "initial_food=1000"
      ]
    },
    {
      "cell_type": "markdown",
      "metadata": {
        "id": "j-b3T1moajk1"
      },
      "source": [
        "#### Instruction for modelling\n",
        "Add variables by ``model.x=Var(range(_dimension_),domain=[_the domain of the variable_])``"
      ]
    },
    {
      "cell_type": "code",
      "execution_count": 4,
      "metadata": {
        "id": "2v4yI64qajk1"
      },
      "outputs": [],
      "source": [
        "model.food_in=Var(range(n), domain=NonNegativeIntegers)                 #Number of jobs allocated to food in each tick\n",
        "model.gold_in=Var(range(n),domain=NonNegativeIntegers)                  #Number of jobs allocated to gold in each tick\n",
        "model.treasure_in=Var(range(n),domain=NonNegativeIntegers)              #Number of jobs allocated to treasure in each tick\n",
        "model.total_gold=Var(range(n),domain=NonNegativeIntegers)               #Represents gold before ith attack {deducting all costs}\n",
        "model.total_food=Var(range(n),domain=NonNegativeIntegers)               #Represents food before ith attack {deducting all costs}\n",
        "model.total_treasure=Var(range(n),domain=NonNegativeIntegers)           #Represents treasure before ith attack {deducting all costs}\n",
        "model.train=Var(range(n),domain=NonNegativeIntegers)                    #Represents the number of soldiers trained before ith attack\n",
        "model.army=Var(range(n),domain=NonNegativeIntegers)                     #Represents the strength of total army before ith attack\n",
        "model.armyV=Var(range(n),domain=NonNegativeIntegers)                    #Represents the strength of total army after ith attack\n",
        "model.W=Var(range(n),domain=Binary)                                     #Represents binary which denotes whether won at or before ith attack or not\n",
        "model.r=Var(range(n),domain=[1.0000,0.3333,0.6667,0.5000,0.2000,0.8000,0.0000,0.5714])  #Represents the  fraction of army which should survive\n",
        "model.x1_25=Var(range(n),domain=Binary)                                 #The next few variables sets rule for wars, the damage our army gets in attack\n",
        "model.x1_5=Var(range(n),domain=Binary)\n",
        "model.x1_75=Var(range(n),domain=Binary)\n",
        "model.x2=Var(range(n),domain=Binary)\n",
        "model.x3=Var(range(n),domain=Binary)\n",
        "model.x5=Var(range(n),domain=Binary)"
      ]
    },
    {
      "cell_type": "markdown",
      "metadata": {
        "id": "FNxRisSxajk1"
      },
      "source": [
        "Objective function"
      ]
    },
    {
      "cell_type": "code",
      "execution_count": 5,
      "metadata": {
        "id": "8DdJgczjajk1"
      },
      "outputs": [],
      "source": [
        "model.obj = Objective(expr = n-sum(model.W[i] for i in range (n)), sense = minimize)          #Gives the fastest possible win, collecting T amounts of treasure"
      ]
    },
    {
      "cell_type": "markdown",
      "metadata": {
        "id": "pVAqnff1ajk2"
      },
      "source": [
        "Add constraints by ``model.constraint.add(expr=...)``"
      ]
    },
    {
      "cell_type": "code",
      "execution_count": 6,
      "metadata": {
        "id": "o92Ns47aajk2"
      },
      "outputs": [],
      "source": [
        "for i in range(1,n):\n",
        "    model.constraints.add(expr=model.total_gold[i]==model.total_gold[i-1]+Cg*model.gold_in[i]-Tg*model.train[i])\n",
        "    model.constraints.add(expr=model.total_food[i]==model.total_food[i-1]+Cf*model.food_in[i]-Tf*model.train[i])\n",
        "    model.constraints.add(expr=model.total_treasure[i]==model.total_treasure[i-1]+Ct*model.treasure_in[i])\n",
        "    model.constraints.add(expr=model.army[i]==model.armyV[i-1]+Str_Sol*model.train[i]+Wininc*model.W[i])\n",
        "    model.constraints.add(expr=model.armyV[i]>=0)\n",
        "    model.constraints.add(expr=model.army[i]>=E[i])\n",
        "    model.constraints.add(expr=model.armyV[i]==model.army[i]-E[i]*model.r[i])\n",
        "    #Now comes warzone constraints\n",
        "    model.constraints.add(expr=model.army[i]-1.25*E[i]-1<=M*model.x1_25[i])           #x_{1.25}\n",
        "    model.constraints.add(expr=model.army[i]-1.25*E[i]-1>=-M*(1-model.x1_25[i]))\n",
        "    model.constraints.add(expr=model.r[i]-0.8000<=M*(1-model.x1_25[i]))\n",
        "    model.constraints.add(expr=model.r[i]-0.8000>=-M*(model.x1_25[i]))\n",
        "\n",
        "    model.constraints.add(expr=model.army[i]-1.5*E[i]-1<=M*model.x1_5[i])             #x_{1.5}\n",
        "    model.constraints.add(expr=model.army[i]-1.5*E[i]-1>=-M*(1-model.x1_5[i]))\n",
        "    model.constraints.add(expr=model.r[i]-0.6667<=M*(1-model.x1_5[i]))\n",
        "    model.constraints.add(expr=model.r[i]-0.6667>=-M*(model.x1_5[i]))\n",
        "\n",
        "    model.constraints.add(expr=model.army[i]-1.75*E[i]-1<=M*model.x1_75[i])           #x_{1.75}\n",
        "    model.constraints.add(expr=model.army[i]-1.75*E[i]-1>=-M*(1-model.x1_75[i]))\n",
        "    model.constraints.add(expr=model.r[i]-0.5714<=M*(1-model.x1_5[i]))\n",
        "    model.constraints.add(expr=model.r[i]-0.5714>=-M*(model.x1_5[i]))\n",
        "\n",
        "    model.constraints.add(expr=model.army[i]-2*E[i]-1<=M*model.x2[i])                 #x_{2}\n",
        "    model.constraints.add(expr=model.army[i]-2*E[i]-1>=-M*(1-model.x2[i]))\n",
        "    model.constraints.add(expr=model.r[i]-0.5000<=M*(1-model.x2[i]))\n",
        "    model.constraints.add(expr=model.r[i]-0.5000>=-M*(model.x2[i]))\n",
        "\n",
        "    model.constraints.add(expr=model.army[i]-3*E[i]-1<=M*model.x3[i])                 #x_{3}\n",
        "    model.constraints.add(expr=model.army[i]-3*E[i]-1>=-M*(1-model.x3[i]))\n",
        "    model.constraints.add(expr=model.r[i]-0.3333<=M*(1-model.x3[i]))\n",
        "    model.constraints.add(expr=model.r[i]-0.3333>=-M*(model.x3[i]))\n",
        "\n",
        "    model.constraints.add(expr=model.army[i]-5*E[i]-1<=M*model.x5[i])                 #x_{5}\n",
        "    model.constraints.add(expr=model.army[i]-5*E[i]-1>=-M*(1-model.x5[i]))\n",
        "    model.constraints.add(expr=model.r[i]-0.2000<=M*(1-model.x5[i]))\n",
        "    model.constraints.add(expr=model.r[i]-0.2000>=-M*(model.x5[i]))\n",
        "\n",
        "    model.constraints.add(expr=model.r[i]<=1-model.x5[i])\n",
        "\n",
        "model.constraints.add(expr=model.total_treasure[0]==0)\n",
        "model.constraints.add(expr=model.armyV[0]==armyV_initial)\n",
        "model.constraints.add(expr=model.total_gold[0]==initial_gold)\n",
        "model.constraints.add(expr=model.total_food[0]==initial_food)\n",
        "\n",
        "\n",
        "for i in range(n):\n",
        "    model.constraints.add(expr=model.total_gold[i]>=0)\n",
        "    model.constraints.add(expr=model.total_food[i]>=0)\n",
        "    model.constraints.add(expr=model.food_in[i]+model.gold_in[i]+model.treasure_in[i]==V[i])\n",
        "    model.constraints.add(expr=model.total_treasure[i]<=M*model.W[i]+T-1)\n",
        "    model.constraints.add(expr=model.total_treasure[i]>=-M*(1-model.W[i])+T-1)\n",
        "    model.constraints.add(expr=model.r[i]<=1)\n",
        "    model.constraints.add(expr=model.r[i]>=0)\n",
        "    model.constraints.add(expr=model.W[i]>=0)\n",
        "    model.constraints.add(expr=model.W[i]<=1)"
      ]
    },
    {
      "cell_type": "markdown",
      "metadata": {
        "id": "f3pl0E7pajk2"
      },
      "source": [
        "## Solver using CBC"
      ]
    },
    {
      "cell_type": "code",
      "execution_count": null,
      "metadata": {
        "id": "07ZvVDLDajk2"
      },
      "outputs": [],
      "source": [
        "opt = SolverFactory('cbc')\n",
        "result=opt.solve(model,tee=True)\n",
        "print('Solver status: ',result.solver.status)\n",
        "print('Solver termination condition: ',result.solver.termination_condition)"
      ]
    },
    {
      "cell_type": "markdown",
      "source": [
        "# Resulting simulation"
      ],
      "metadata": {
        "id": "aKxtGFzk-6De"
      }
    },
    {
      "cell_type": "code",
      "execution_count": 8,
      "metadata": {
        "id": "AyQFxatzajk2",
        "colab": {
          "base_uri": "https://localhost:8080/"
        },
        "outputId": "e550928e-a38f-40f5-e77f-ff0b476606f2"
      },
      "outputs": [
        {
          "output_type": "stream",
          "name": "stdout",
          "text": [
            "total gold at 0: 700.0\n",
            "total gold at 1: 580.0\n",
            "total gold at 2: 580.0\n",
            "total gold at 3: 580.0\n",
            "total gold at 4: 580.0\n",
            "total gold at 5: 220.0\n",
            "total gold at 6: 10.0\n",
            "total gold at 7: 10.0\n",
            "total gold at 8: 10.0\n",
            "total gold at 9: 10.0\n",
            "\n",
            "\n",
            "total food0: 1000.0\n",
            "total food1: 840.0\n",
            "total food2: 840.0\n",
            "total food3: 840.0\n",
            "total food4: 840.0\n",
            "total food5: 360.0\n",
            "total food6: 80.0\n",
            "total food7: 80.0\n",
            "total food8: 80.0\n",
            "total food9: 480.0\n",
            "\n",
            "\n",
            "total treasure0: 0.0\n",
            "total treasure1: 400.0\n",
            "total treasure2: 800.0\n",
            "total treasure3: 1200.0\n",
            "total treasure4: 1600.0\n",
            "total treasure5: 2000.0\n",
            "total treasure6: 2400.0\n",
            "total treasure7: 2800.0\n",
            "total treasure8: 3200.0\n",
            "total treasure9: 3200.0\n",
            "\n",
            "\n",
            "train1: 4.0\n",
            "train2: 0.0\n",
            "train3: 0.0\n",
            "train4: 0.0\n",
            "train5: 12.0\n",
            "train6: 7.0\n",
            "train7: 0.0\n",
            "train8: 0.0\n",
            "train9: 0.0\n",
            "\n",
            "\n",
            "army1: 2352.0\n",
            "army2: 1932.0\n",
            "army3: 1512.0\n",
            "army4: 1033.0\n",
            "army5: 1303.0\n",
            "army6: 1471.0\n",
            "army7: 100992.0\n",
            "army8: 200992.0\n",
            "army9: 300992.0\n",
            "\n",
            "\n",
            "armyV1: 1932.0\n",
            "armyV2: 1512.0\n",
            "armyV3: 1033.0\n",
            "armyV4: 295.0\n",
            "armyV5: 883.0\n",
            "armyV6: 992.0\n",
            "armyV7: 100992.0\n",
            "armyV8: 200992.0\n",
            "armyV9: 267662.0\n",
            "\n",
            "\n",
            "Optimal N: 7.0\n"
          ]
        }
      ],
      "source": [
        "for i in range(n):\n",
        "  print(f\"total gold at {i}: {value(model.total_gold[i])}\")\n",
        "print('\\n')\n",
        "for i in range(n):\n",
        "  print(f\"total food{i}: {value(model.total_food[i])}\")\n",
        "print('\\n')\n",
        "for i in range(n):\n",
        "  print(f\"total treasure{i}: {value(model.total_treasure[i])}\")\n",
        "print('\\n')\n",
        "for i in range(1,n):\n",
        "  print(f\"train{i}: {value(model.train[i])}\")\n",
        "print('\\n')\n",
        "for i in range(1,n):\n",
        "  print(f\"army{i}: {value(model.army[i])}\")\n",
        "print('\\n')\n",
        "for i in range(1,n):\n",
        "  print(f\"armyV{i}: {value(model.armyV[i])}\")\n",
        "print('\\n')\n",
        "print(\"Optimal N:\", model.obj())"
      ]
    },
    {
      "cell_type": "markdown",
      "source": [
        "# The decisions taken-"
      ],
      "metadata": {
        "id": "icySdEnb9G_a"
      }
    },
    {
      "cell_type": "code",
      "source": [
        "print(\"Villager asssigned to resources-\")\n",
        "for i in range(1,n):\n",
        "  print(f\"Time {i}-\")\n",
        "  print(f\"Food: {int(value(model.food_in[i])/Cf)}\")\n",
        "  print(f\"Gold: {int(value(model.gold_in[i])/Cg)}\")\n",
        "  print(f\"Treasure: {int(value(model.treasure_in[i])/Ct)}\")\n",
        "\n",
        "print(\"Soldiers trained-\")\n",
        "for i in range(1,n):\n",
        "  print(f\"Time {i}: {int(value(model.train[i]))}\")"
      ],
      "metadata": {
        "id": "2IqyAVDRBGil",
        "colab": {
          "base_uri": "https://localhost:8080/"
        },
        "outputId": "3b911601-5208-4b61-d48a-c858d9946384"
      },
      "execution_count": 20,
      "outputs": [
        {
          "output_type": "stream",
          "name": "stdout",
          "text": [
            "Villager asssigned to resources-\n",
            "Time 0-\n",
            "Food: 0\n",
            "Gold: 0\n",
            "Treasure: 4\n",
            "Time 1-\n",
            "Food: 0\n",
            "Gold: 0\n",
            "Treasure: 4\n",
            "Time 2-\n",
            "Food: 0\n",
            "Gold: 0\n",
            "Treasure: 4\n",
            "Time 3-\n",
            "Food: 0\n",
            "Gold: 0\n",
            "Treasure: 4\n",
            "Time 4-\n",
            "Food: 0\n",
            "Gold: 0\n",
            "Treasure: 4\n",
            "Time 5-\n",
            "Food: 0\n",
            "Gold: 0\n",
            "Treasure: 4\n",
            "Time 6-\n",
            "Food: 0\n",
            "Gold: 0\n",
            "Treasure: 4\n",
            "Time 7-\n",
            "Food: 0\n",
            "Gold: 0\n",
            "Treasure: 4\n",
            "Time 8-\n",
            "Food: 0\n",
            "Gold: 0\n",
            "Treasure: 4\n",
            "Time 9-\n",
            "Food: 4\n",
            "Gold: 0\n",
            "Treasure: 0\n",
            "Soldiers trained-\n",
            "Time 1: 4\n",
            "Time 2: 0\n",
            "Time 3: 0\n",
            "Time 4: 0\n",
            "Time 5: 12\n",
            "Time 6: 7\n",
            "Time 7: 0\n",
            "Time 8: 0\n",
            "Time 9: 0\n"
          ]
        }
      ]
    },
    {
      "cell_type": "markdown",
      "source": [
        "## File to be piped to $game.o$"
      ],
      "metadata": {
        "id": "yX0_6XwI_k4D"
      }
    },
    {
      "cell_type": "code",
      "source": [
        "file_name='best_strategy.txt'\n",
        "with open(file_name,'w') as file:\n",
        "  for i in range (1,n):\n",
        "    file.write(str(int(model.food_in[i]()))+'\\n')\n",
        "    file.write(str(int(model.gold_in[i]()))+'\\n')\n",
        "    file.write(str(int(model.train[i]()))+'\\n')"
      ],
      "metadata": {
        "id": "moClVgxI_tXS"
      },
      "execution_count": null,
      "outputs": []
    }
  ],
  "metadata": {
    "kernelspec": {
      "display_name": "Python 3",
      "name": "python3"
    },
    "language_info": {
      "codemirror_mode": {
        "name": "ipython",
        "version": 3
      },
      "file_extension": ".py",
      "mimetype": "text/x-python",
      "name": "python",
      "nbconvert_exporter": "python",
      "pygments_lexer": "ipython3",
      "version": "3.11.4"
    },
    "colab": {
      "provenance": []
    }
  },
  "nbformat": 4,
  "nbformat_minor": 0
}