{
  "cells": [
    {
      "cell_type": "markdown",
      "metadata": {
        "id": "cpnkFJGiajkz"
      },
      "source": [
        "## Installation"
      ]
    },
    {
      "cell_type": "code",
      "execution_count": 1,
      "metadata": {
        "id": "XU4WBU3Eajk0"
      },
      "outputs": [
        {
          "name": "stdout",
          "output_type": "stream",
          "text": [
            "Note: you may need to restart the kernel to use updated packages.\n",
            "E: Could not open lock file /var/lib/dpkg/lock-frontend - open (13: Permission denied)\n",
            "E: Unable to acquire the dpkg frontend lock (/var/lib/dpkg/lock-frontend), are you root?\n"
          ]
        }
      ],
      "source": [
        "%pip install -q pyomo\n",
        "!apt-get install coinor-cbc"
      ]
    },
    {
      "cell_type": "markdown",
      "metadata": {
        "id": "7j0JTbCuajk0"
      },
      "source": [
        "#### Initializing libraries and model"
      ]
    },
    {
      "cell_type": "code",
      "execution_count": 2,
      "metadata": {
        "colab": {
          "base_uri": "https://localhost:8080/",
          "height": 366
        },
        "id": "KAKPLgcvajk1",
        "outputId": "70eb4f15-ea8c-4f7d-cecc-5688ab7aed28"
      },
      "outputs": [],
      "source": [
        "from pyomo.environ import *\n",
        "import math\n",
        "model=ConcreteModel()\n",
        "model.constraints=ConstraintList()"
      ]
    },
    {
      "cell_type": "markdown",
      "metadata": {
        "id": "GqdRFKL7ajk1"
      },
      "source": [
        "# Modelling"
      ]
    },
    {
      "cell_type": "markdown",
      "metadata": {
        "id": "FHOg-i6hajk1"
      },
      "source": [
        "Add initial variables here, like importing the game files, the rules, etc, which are constants,or decided by the game"
      ]
    },
    {
      "cell_type": "code",
      "execution_count": 3,
      "metadata": {
        "id": "WAyNvcNKajk1"
      },
      "outputs": [],
      "source": [
        "n=12                                #Number of match ticks\n",
        "E=[840,840,840,840,840,840,840,840,840,840]         #Enemy strength for each attack tick\n",
        "E[0]=0\n",
        "E[n-1]=100000\n",
        "T=2500                             #Treasure required to reach victory\n",
        "V=[40,40,40,40,40,40,40,40,40,40]             #Number of jobs in each match tick\n",
        "Cg=10                             #Amount of gold one can generate in each job for one job tick\n",
        "Cf=10                              #Amount of food one can generate in each job for one job tick\n",
        "Ct=10                              #Amount of treasure one can generate in each job for one job tick\n",
        "Tg=30                               #Amount of gold required to train one soldier\n",
        "Tf=40                               #Amount of food required to train one soldier\n",
        "M=10000000                           #The big M we will be using\n",
        "Wininc=100000                       #The army winning increase, needs to be optimized for better solution\n",
        "Str_Sol=84                          #Strength of one soldier\n",
        "armyV_initial=84*24                    #Initialized as needed, the initial value of army\n",
        "initial_gold=700\n",
        "initial_food=1000"
      ]
    },
    {
      "cell_type": "markdown",
      "metadata": {
        "id": "j-b3T1moajk1"
      },
      "source": [
        "#### Instruction for modelling\n",
        "Add variables by ``model.x=Var(range(_dimension_),domain=[_the domain of the variable_])``"
      ]
    },
    {
      "cell_type": "code",
      "execution_count": 4,
      "metadata": {
        "id": "2v4yI64qajk1"
      },
      "outputs": [],
      "source": [
        "model.food_in=Var(range(n), domain=NonNegativeIntegers)                 #Number of jobs allocated to food in each tick\n",
        "model.gold_in=Var(range(n),domain=NonNegativeIntegers)                  #Number of jobs allocated to gold in each tick\n",
        "model.treasure_in=Var(range(n),domain=NonNegativeIntegers)              #Number of jobs allocated to treasure in each tick\n",
        "model.total_gold=Var(range(n),domain=NonNegativeIntegers)               #Represents gold before ith attack {deducting all costs}\n",
        "model.total_food=Var(range(n),domain=NonNegativeIntegers)               #Represents food before ith attack {deducting all costs}\n",
        "model.total_treasure=Var(range(n),domain=NonNegativeIntegers)           #Represents treasure before ith attack {deducting all costs}\n",
        "model.train=Var(range(n),domain=NonNegativeIntegers)                    #Represents the number of soldiers trained before ith attack\n",
        "model.army=Var(range(n),domain=NonNegativeIntegers)                     #Represents the strength of total army before ith attack\n",
        "model.armyV=Var(range(n),domain=NonNegativeIntegers)                    #Represents the strength of total army after ith attack\n",
        "model.W=Var(range(n),domain=Binary)                                     #Represents binary which denotes whether won at or before ith attack or not\n",
        "model.r=Var(range(n),domain=[1.0000,0.3333,0.6667,0.5000,0.2000,0.8000,0.0000,0.5714])  #Represents the  fraction of army which should survive\n",
        "model.x1_25=Var(range(n),domain=Binary)                                 #The next few variables sets rule for wars, the damage our army gets in attack\n",
        "model.x1_5=Var(range(n),domain=Binary)\n",
        "model.x1_75=Var(range(n),domain=Binary)\n",
        "model.x2=Var(range(n),domain=Binary)\n",
        "model.x3=Var(range(n),domain=Binary)\n",
        "model.x5=Var(range(n),domain=Binary)"
      ]
    },
    {
      "cell_type": "markdown",
      "metadata": {
        "id": "FNxRisSxajk1"
      },
      "source": [
        "Objective function"
      ]
    },
    {
      "cell_type": "code",
      "execution_count": 5,
      "metadata": {
        "id": "8DdJgczjajk1"
      },
      "outputs": [],
      "source": [
        "model.obj = Objective(expr = n-sum(model.W[i] for i in range (n)), sense = minimize)          #Gives the fastest possible win, collecting T amounts of treasure"
      ]
    },
    {
      "cell_type": "markdown",
      "metadata": {
        "id": "pVAqnff1ajk2"
      },
      "source": [
        "Add constraints by ``model.constraint.add(expr=...)``"
      ]
    },
    {
      "cell_type": "code",
      "execution_count": 6,
      "metadata": {
        "id": "o92Ns47aajk2"
      },
      "outputs": [],
      "source": [
        "for i in range(1,n):\n",
        "    model.constraints.add(expr=model.total_gold[i]==model.total_gold[i-1]+Cg*model.gold_in[i]-Tg*model.train[i])\n",
        "    model.constraints.add(expr=model.total_food[i]==model.total_food[i-1]+Cf*model.food_in[i]-Tf*model.train[i])\n",
        "    model.constraints.add(expr=model.total_treasure[i]==model.total_treasure[i-1]+Ct*model.treasure_in[i])\n",
        "    model.constraints.add(expr=model.army[i]==model.armyV[i-1]+Str_Sol*model.train[i]+Wininc*model.W[i])\n",
        "    model.constraints.add(expr=model.armyV[i]>=0)\n",
        "    model.constraints.add(expr=model.army[i]>=E[i])\n",
        "    model.constraints.add(expr=model.armyV[i]==model.army[i]-E[i]*model.r[i])\n",
        "    #Now comes warzone constraints\n",
        "    model.constraints.add(expr=model.army[i]-1.25*E[i]-1<=M*model.x1_25[i])           #x_{1.25}\n",
        "    model.constraints.add(expr=model.army[i]-1.25*E[i]-1>=-M*(1-model.x1_25[i]))\n",
        "    model.constraints.add(expr=model.r[i]-0.8000<=M*(1-model.x1_25[i]))\n",
        "    model.constraints.add(expr=model.r[i]-0.8000>=-M*(model.x1_25[i]))\n",
        "\n",
        "    model.constraints.add(expr=model.army[i]-1.5*E[i]-1<=M*model.x1_5[i])             #x_{1.5}\n",
        "    model.constraints.add(expr=model.army[i]-1.5*E[i]-1>=-M*(1-model.x1_5[i]))\n",
        "    model.constraints.add(expr=model.r[i]-0.6667<=M*(1-model.x1_5[i]))\n",
        "    model.constraints.add(expr=model.r[i]-0.6667>=-M*(model.x1_5[i]))\n",
        "\n",
        "    model.constraints.add(expr=model.army[i]-1.75*E[i]-1<=M*model.x1_75[i])           #x_{1.75}\n",
        "    model.constraints.add(expr=model.army[i]-1.75*E[i]-1>=-M*(1-model.x1_75[i]))\n",
        "    model.constraints.add(expr=model.r[i]-0.5714<=M*(1-model.x1_5[i]))\n",
        "    model.constraints.add(expr=model.r[i]-0.5714>=-M*(model.x1_5[i]))\n",
        "\n",
        "    model.constraints.add(expr=model.army[i]-2*E[i]-1<=M*model.x2[i])                 #x_{2}\n",
        "    model.constraints.add(expr=model.army[i]-2*E[i]-1>=-M*(1-model.x2[i]))\n",
        "    model.constraints.add(expr=model.r[i]-0.5000<=M*(1-model.x2[i]))\n",
        "    model.constraints.add(expr=model.r[i]-0.5000>=-M*(model.x2[i]))\n",
        "\n",
        "    model.constraints.add(expr=model.army[i]-3*E[i]-1<=M*model.x3[i])                 #x_{3}\n",
        "    model.constraints.add(expr=model.army[i]-3*E[i]-1>=-M*(1-model.x3[i]))\n",
        "    model.constraints.add(expr=model.r[i]-0.3333<=M*(1-model.x3[i]))\n",
        "    model.constraints.add(expr=model.r[i]-0.3333>=-M*(model.x3[i]))\n",
        "\n",
        "    model.constraints.add(expr=model.army[i]-5*E[i]-1<=M*model.x5[i])                 #x_{5}\n",
        "    model.constraints.add(expr=model.army[i]-5*E[i]-1>=-M*(1-model.x5[i]))\n",
        "    model.constraints.add(expr=model.r[i]-0.2000<=M*(1-model.x5[i]))\n",
        "    model.constraints.add(expr=model.r[i]-0.2000>=-M*(model.x5[i]))\n",
        "\n",
        "    model.constraints.add(expr=model.r[i]<=1-model.x5[i])\n",
        "\n",
        "model.constraints.add(expr=model.total_treasure[0]==0)\n",
        "model.constraints.add(expr=model.armyV[0]==armyV_initial)\n",
        "model.constraints.add(expr=model.total_gold[0]==initial_gold)\n",
        "model.constraints.add(expr=model.total_food[0]==initial_food)\n",
        "\n",
        "\n",
        "for i in range(n):\n",
        "    model.constraints.add(expr=model.total_gold[i]>=0)\n",
        "    model.constraints.add(expr=model.total_food[i]>=0)\n",
        "    model.constraints.add(expr=model.food_in[i]+model.gold_in[i]+model.treasure_in[i]==V[i])\n",
        "    model.constraints.add(expr=model.total_treasure[i]<=M*model.W[i]+T-1)\n",
        "    model.constraints.add(expr=model.total_treasure[i]>=-M*(1-model.W[i])+T-1)\n",
        "    model.constraints.add(expr=model.r[i]<=1)\n",
        "    model.constraints.add(expr=model.r[i]>=0)\n",
        "    model.constraints.add(expr=model.W[i]>=0)\n",
        "    model.constraints.add(expr=model.W[i]<=1)"
      ]
    },
    {
      "cell_type": "markdown",
      "metadata": {
        "id": "f3pl0E7pajk2"
      },
      "source": [
        "## Solver using CBC"
      ]
    },
    {
      "cell_type": "code",
      "execution_count": 7,
      "metadata": {
        "id": "07ZvVDLDajk2"
      },
      "outputs": [
        {
          "name": "stdout",
          "output_type": "stream",
          "text": [
            "Welcome to the CBC MILP Solver \n",
            "Version: 2.10.8 \n",
            "Build Date: May  9 2022 \n",
            "\n",
            "command line - /bin/cbc -printingOptions all -import /tmp/tmpbg4ir3wb.pyomo.lp -stat=1 -solve -solu /tmp/tmpbg4ir3wb.pyomo.soln (default strategy 1)\n",
            "Option for printingOptions changed from normal to all\n",
            "Presolve is modifying 10 integer bounds and re-presolving\n",
            "Presolve 264 (-118) rows, 136 (-27) columns and 621 (-143) elements\n",
            "Statistics for presolved model\n",
            "Original problem has 152 integers (64 of which binary)\n",
            "Presolved problem has 127 integers (63 of which binary)\n",
            "==== 127 zero objective 2 different\n",
            "9 variables have objective of -1\n",
            "127 variables have objective of 0\n",
            "==== absolute objective values 2 different\n",
            "127 variables have objective of 0\n",
            "9 variables have objective of 1\n",
            "==== for integers 118 zero objective 2 different\n",
            "9 variables have objective of -1\n",
            "118 variables have objective of 0\n",
            "==== for integers absolute objective values 2 different\n",
            "118 variables have objective of 0\n",
            "9 variables have objective of 1\n",
            "===== end objective counts\n",
            "\n",
            "\n",
            "Problem has 264 rows, 136 columns (9 with objective) and 621 elements\n",
            "There are 1 singletons with no objective \n",
            "Column breakdown:\n",
            "55 of type 0.0->inf, 0 of type 0.0->up, 8 of type lo->inf, \n",
            "1 of type lo->up, 0 of type free, 0 of type fixed, \n",
            "0 of type -inf->0.0, 0 of type -inf->up, 72 of type 0.0->1.0 \n",
            "Row breakdown:\n",
            "25 of type E 0.0, 0 of type E 1.0, 0 of type E -1.0, \n",
            "12 of type E other, 0 of type G 0.0, 0 of type G 1.0, \n",
            "0 of type G other, 2 of type L 0.0, 9 of type L 1.0, \n",
            "216 of type L other, 0 of type Range 0.0->1.0, 0 of type Range other, \n",
            "0 of type Free \n",
            "Continuous objective value is 0.0009093 - 0.00 seconds\n",
            "Cgl0003I 3 fixed, 24 tightened bounds, 173 strengthened rows, 0 substitutions\n",
            "Cgl0003I 1 fixed, 21 tightened bounds, 129 strengthened rows, 0 substitutions\n",
            "Cgl0003I 0 fixed, 16 tightened bounds, 96 strengthened rows, 0 substitutions\n",
            "Cgl0003I 0 fixed, 11 tightened bounds, 83 strengthened rows, 0 substitutions\n",
            "Cgl0003I 0 fixed, 6 tightened bounds, 52 strengthened rows, 0 substitutions\n",
            "Cgl0003I 0 fixed, 3 tightened bounds, 30 strengthened rows, 0 substitutions\n",
            "Cgl0003I 0 fixed, 0 tightened bounds, 19 strengthened rows, 0 substitutions\n",
            "Cgl0003I 0 fixed, 0 tightened bounds, 9 strengthened rows, 0 substitutions\n",
            "Cgl0003I 0 fixed, 0 tightened bounds, 6 strengthened rows, 0 substitutions\n",
            "Cgl0003I 0 fixed, 0 tightened bounds, 3 strengthened rows, 0 substitutions\n",
            "Cgl0003I 0 fixed, 0 tightened bounds, 1 strengthened rows, 0 substitutions\n",
            "Cgl0004I processed model has 225 rows, 120 columns (111 integer (49 of which binary)) and 940 elements\n",
            "Cbc0045I 4 integer variables out of 111 objects (111 integer) have cost of -1 - high priority\n",
            "Cbc0045I branch on satisfied Y create fake objective Y random cost Y\n",
            "Cbc0038I Initial state - 48 integers unsatisfied sum - 10.7723\n",
            "Cbc0038I Pass   1: suminf.    6.08326 (24) obj. 6.00001 iterations 80\n",
            "Cbc0038I Pass   2: suminf.    6.08326 (24) obj. 6.00001 iterations 0\n",
            "Cbc0038I Pass   3: suminf.    5.66880 (32) obj. 7.00001 iterations 50\n",
            "Cbc0038I Pass   4: suminf.    5.66880 (32) obj. 7.00001 iterations 0\n",
            "Cbc0038I Pass   5: suminf.    6.00750 (30) obj. 7.00001 iterations 60\n",
            "Cbc0038I Pass   6: suminf.    6.00750 (30) obj. 7.00001 iterations 0\n",
            "Cbc0038I Pass   7: suminf.    9.09217 (51) obj. 7.9876 iterations 47\n",
            "Cbc0038I Pass   8: suminf.    7.60136 (40) obj. 8 iterations 7\n",
            "Cbc0038I Pass   9: suminf.    4.69230 (30) obj. 8 iterations 23\n",
            "Cbc0038I Pass  10: suminf.    3.67540 (29) obj. 8 iterations 7\n",
            "Cbc0038I Pass  11: suminf.    3.67540 (29) obj. 8 iterations 0\n",
            "Cbc0038I Pass  12: suminf.    7.33306 (43) obj. 8 iterations 31\n",
            "Cbc0038I Pass  13: suminf.    7.27217 (39) obj. 8 iterations 4\n",
            "Cbc0038I Pass  14: suminf.    6.72762 (39) obj. 8 iterations 18\n",
            "Cbc0038I Pass  15: suminf.    5.85323 (36) obj. 8 iterations 9\n",
            "Cbc0038I Pass  16: suminf.    5.85323 (36) obj. 8 iterations 0\n",
            "Cbc0038I Pass  17: suminf.    7.54174 (54) obj. 7.99179 iterations 73\n",
            "Cbc0038I Pass  18: suminf.    7.29029 (49) obj. 8 iterations 11\n",
            "Cbc0038I Pass  19: suminf.    7.22746 (43) obj. 8 iterations 20\n",
            "Cbc0038I Pass  20: suminf.    6.31059 (42) obj. 8 iterations 3\n",
            "Cbc0038I Pass  21: suminf.    6.31059 (42) obj. 8 iterations 0\n",
            "Cbc0038I Pass  22: suminf.    6.23322 (55) obj. 9.00025 iterations 74\n",
            "Cbc0038I Pass  23: suminf.    6.23322 (55) obj. 9.00025 iterations 0\n",
            "Cbc0038I Pass  24: suminf.    7.76159 (43) obj. 9.00012 iterations 47\n",
            "Cbc0038I Pass  25: suminf.    6.05142 (38) obj. 9.00012 iterations 10\n",
            "Cbc0038I Pass  26: suminf.    6.05142 (38) obj. 9.00012 iterations 0\n",
            "Cbc0038I Pass  27: suminf.    5.76424 (45) obj. 9.06678 iterations 65\n",
            "Cbc0038I Pass  28: suminf.    9.81454 (38) obj. 9.00025 iterations 20\n",
            "Cbc0038I Pass  29: suminf.    9.23065 (37) obj. 9.00025 iterations 7\n",
            "Cbc0038I Pass  30: suminf.    5.03594 (30) obj. 9 iterations 35\n",
            "Cbc0038I Pass  31: suminf.    5.03594 (30) obj. 9 iterations 0\n",
            "Cbc0038I Pass  32: suminf.    8.82158 (61) obj. 8.9607 iterations 71\n",
            "Cbc0038I Pass  33: suminf.    9.39286 (61) obj. 9.00025 iterations 15\n",
            "Cbc0038I Pass  34: suminf.    4.70945 (34) obj. 9 iterations 47\n",
            "Cbc0038I Pass  35: suminf.    4.70945 (34) obj. 9 iterations 0\n",
            "Cbc0038I Pass  36: suminf.    6.35024 (32) obj. 9 iterations 25\n",
            "Cbc0038I Pass  37: suminf.    6.35022 (31) obj. 9 iterations 1\n",
            "Cbc0038I Pass  38: suminf.    6.35022 (31) obj. 9 iterations 0\n",
            "Cbc0038I Pass  39: suminf.    7.64053 (48) obj. 9.04467 iterations 67\n",
            "Cbc0038I Pass  40: suminf.    7.06438 (41) obj. 9.04888 iterations 15\n",
            "Cbc0038I Pass  41: suminf.    6.04059 (32) obj. 9.05968 iterations 14\n",
            "Cbc0038I Pass  42: suminf.    5.01018 (32) obj. 9.00001 iterations 29\n",
            "Cbc0038I Pass  43: suminf.    5.01018 (32) obj. 9.00001 iterations 0\n",
            "Cbc0038I Pass  44: suminf.    5.56852 (44) obj. 9 iterations 26\n",
            "Cbc0038I Pass  45: suminf.    5.56850 (44) obj. 9 iterations 1\n",
            "Cbc0038I Pass  46: suminf.    5.83280 (36) obj. 9 iterations 42\n",
            "Cbc0038I Pass  47: suminf.    5.83280 (36) obj. 9 iterations 0\n",
            "Cbc0038I Pass  48: suminf.    3.44327 (49) obj. 9.00025 iterations 52\n",
            "Cbc0038I Pass  49: suminf.    3.44327 (49) obj. 9.00025 iterations 0\n",
            "Cbc0038I Pass  50: suminf.    6.55419 (49) obj. 9 iterations 16\n",
            "Cbc0038I Pass  51: suminf.    6.55419 (49) obj. 9 iterations 0\n",
            "Cbc0038I Pass  52: suminf.    9.64968 (52) obj. 9 iterations 42\n",
            "Cbc0038I Pass  53: suminf.   11.04707 (53) obj. 9 iterations 3\n",
            "Cbc0038I Pass  54: suminf.    4.63849 (31) obj. 9 iterations 54\n",
            "Cbc0038I Pass  55: suminf.    5.02785 (33) obj. 9 iterations 9\n",
            "Cbc0038I Pass  56: suminf.    5.02785 (33) obj. 9 iterations 0\n",
            "Cbc0038I Pass  57: suminf.    7.61447 (43) obj. 9.00025 iterations 79\n",
            "Cbc0038I Pass  58: suminf.    7.18321 (39) obj. 9.00025 iterations 6\n",
            "Cbc0038I Pass  59: suminf.    3.94410 (35) obj. 9 iterations 32\n",
            "Cbc0038I Pass  60: suminf.    3.94410 (35) obj. 9 iterations 0\n",
            "Cbc0038I Pass  61: suminf.    5.61322 (35) obj. 9.05405 iterations 38\n",
            "Cbc0038I Pass  62: suminf.    5.82264 (37) obj. 9.00025 iterations 2\n",
            "Cbc0038I Pass  63: suminf.    5.30246 (39) obj. 9 iterations 30\n",
            "Cbc0038I Pass  64: suminf.    5.85887 (34) obj. 9 iterations 11\n",
            "Cbc0038I Pass  65: suminf.    5.85887 (34) obj. 9 iterations 0\n",
            "Cbc0038I Pass  66: suminf.    7.13130 (39) obj. 9.00025 iterations 40\n",
            "Cbc0038I Pass  67: suminf.    5.68901 (35) obj. 9.00025 iterations 7\n",
            "Cbc0038I Pass  68: suminf.    3.51568 (30) obj. 9 iterations 27\n",
            "Cbc0038I Pass  69: suminf.    6.18688 (34) obj. 9 iterations 7\n",
            "Cbc0038I Pass  70: suminf.    6.18688 (34) obj. 9 iterations 0\n",
            "Cbc0038I Pass  71: suminf.    6.87314 (39) obj. 9.00025 iterations 53\n",
            "Cbc0038I Pass  72: suminf.    6.87314 (39) obj. 9.00025 iterations 0\n",
            "Cbc0038I Pass  73: suminf.    1.35746 (7) obj. 9.00003 iterations 60\n",
            "Cbc0038I Pass  74: suminf.    1.35746 (7) obj. 9.00003 iterations 0\n",
            "Cbc0038I Pass  75: suminf.    4.95154 (38) obj. 8.0106 iterations 73\n",
            "Cbc0038I Pass  76: suminf.    8.17743 (45) obj. 8.00583 iterations 22\n",
            "Cbc0038I Pass  77: suminf.    3.47026 (28) obj. 9.00025 iterations 78\n",
            "Cbc0038I Pass  78: suminf.    3.54254 (21) obj. 9.00006 iterations 21\n",
            "Cbc0038I Pass  79: suminf.    3.54254 (21) obj. 9.00006 iterations 0\n",
            "Cbc0038I Pass  80: suminf.    6.67319 (39) obj. 9.05446 iterations 48\n",
            "Cbc0038I Pass  81: suminf.    6.72651 (45) obj. 9.00004 iterations 16\n",
            "Cbc0038I Pass  82: suminf.    6.73018 (38) obj. 9.00003 iterations 8\n",
            "Cbc0038I Pass  83: suminf.    6.73018 (38) obj. 9.00003 iterations 0\n",
            "Cbc0038I Pass  84: suminf.    6.16702 (36) obj. 9 iterations 62\n",
            "Cbc0038I Pass  85: suminf.    6.16702 (36) obj. 9 iterations 1\n",
            "Cbc0038I Pass  86: suminf.    4.22367 (27) obj. 9 iterations 14\n",
            "Cbc0038I Pass  87: suminf.    4.22367 (27) obj. 9 iterations 0\n",
            "Cbc0038I Pass  88: suminf.    6.94786 (42) obj. 9.00025 iterations 83\n",
            "Cbc0038I Pass  89: suminf.    6.94783 (41) obj. 9.00025 iterations 3\n",
            "Cbc0038I Pass  90: suminf.    6.09973 (39) obj. 9 iterations 17\n",
            "Cbc0038I Pass  91: suminf.    5.02949 (34) obj. 9 iterations 11\n",
            "Cbc0038I Pass  92: suminf.    5.02949 (34) obj. 9 iterations 0\n",
            "Cbc0038I Pass  93: suminf.    4.28514 (28) obj. 9.04317 iterations 46\n",
            "Cbc0038I Pass  94: suminf.    4.24818 (25) obj. 9 iterations 24\n",
            "Cbc0038I Pass  95: suminf.    4.24818 (25) obj. 9 iterations 0\n",
            "Cbc0038I Pass  96: suminf.    8.58658 (56) obj. 9 iterations 51\n",
            "Cbc0038I Pass  97: suminf.    7.21274 (47) obj. 9 iterations 10\n",
            "Cbc0038I Pass  98: suminf.    6.37111 (43) obj. 9 iterations 15\n",
            "Cbc0038I Pass  99: suminf.    5.71086 (43) obj. 9 iterations 3\n",
            "Cbc0038I Pass 100: suminf.    8.81961 (59) obj. 8.4891 iterations 49\n",
            "Cbc0038I No solution found this major pass\n",
            "Cbc0038I Before mini branch and bound, 2 integers at bound fixed and 0 continuous\n",
            "Cbc0038I Full problem 225 rows 120 columns, reduced to 221 rows 114 columns - too large\n",
            "Cbc0038I Mini branch and bound did not improve solution (0.07 seconds)\n",
            "Cbc0038I After 0.07 seconds - Feasibility pump exiting - took 0.04 seconds\n",
            "Cbc0031I 26 added rows had average density of 6.7692308\n",
            "Cbc0013I At root node, 26 cuts changed objective from 6.0000099 to 6.0000099 in 31 passes\n",
            "Cbc0014I Cut generator 0 (Probing) - 60 row cuts average 2.0 elements, 0 column cuts (0 active)  in 0.019 seconds - new frequency is 1\n",
            "Cbc0014I Cut generator 1 (Gomory) - 223 row cuts average 35.5 elements, 0 column cuts (0 active)  in 0.004 seconds - new frequency is 1\n",
            "Cbc0014I Cut generator 2 (Knapsack) - 2 row cuts average 2.0 elements, 0 column cuts (0 active)  in 0.003 seconds - new frequency is -100\n",
            "Cbc0014I Cut generator 3 (Clique) - 0 row cuts average 0.0 elements, 0 column cuts (0 active)  in 0.000 seconds - new frequency is -100\n",
            "Cbc0014I Cut generator 4 (MixedIntegerRounding2) - 0 row cuts average 0.0 elements, 0 column cuts (0 active)  in 0.002 seconds - new frequency is -100\n",
            "Cbc0014I Cut generator 5 (FlowCover) - 12 row cuts average 2.0 elements, 0 column cuts (0 active)  in 0.005 seconds - new frequency is -100\n",
            "Cbc0014I Cut generator 6 (TwoMirCuts) - 97 row cuts average 30.9 elements, 0 column cuts (0 active)  in 0.003 seconds - new frequency is -100\n",
            "Cbc0014I Cut generator 7 (ZeroHalf) - 1 row cuts average 11.0 elements, 0 column cuts (0 active)  in 0.000 seconds - new frequency is -100\n",
            "Cbc0010I After 0 nodes, 1 on tree, 1e+50 best solution, best possible 6.0000099 (0.12 seconds)\n",
            "Cbc0012I Integer solution of 7 found by DiveCoefficient after 200 iterations and 2 nodes (0.13 seconds)\n",
            "Cbc0001I Search completed - best objective 7, took 253 iterations and 6 nodes (0.13 seconds)\n",
            "Cbc0032I Strong branching done 18 times (120 iterations), fathomed 0 nodes and fixed 0 variables\n",
            "Cbc0035I Maximum depth 2, 0 variables fixed on reduced cost\n",
            "Cuts at root node changed objective from 6.00001 to 6.00001\n",
            "Probing was tried 36 times and created 95 cuts of which 0 were active after adding rounds of cuts (0.019 seconds)\n",
            "Gomory was tried 35 times and created 245 cuts of which 0 were active after adding rounds of cuts (0.004 seconds)\n",
            "Knapsack was tried 31 times and created 2 cuts of which 0 were active after adding rounds of cuts (0.003 seconds)\n",
            "Clique was tried 31 times and created 0 cuts of which 0 were active after adding rounds of cuts (0.000 seconds)\n",
            "MixedIntegerRounding2 was tried 31 times and created 0 cuts of which 0 were active after adding rounds of cuts (0.002 seconds)\n",
            "FlowCover was tried 31 times and created 12 cuts of which 0 were active after adding rounds of cuts (0.005 seconds)\n",
            "TwoMirCuts was tried 31 times and created 97 cuts of which 0 were active after adding rounds of cuts (0.003 seconds)\n",
            "ZeroHalf was tried 1 times and created 1 cuts of which 0 were active after adding rounds of cuts (0.000 seconds)\n",
            "ImplicationCuts was tried 4 times and created 2 cuts of which 0 were active after adding rounds of cuts (0.000 seconds)\n",
            "\n",
            "Result - Optimal solution found\n",
            "\n",
            "Objective value:                7.00000000\n",
            "Enumerated nodes:               6\n",
            "Total iterations:               253\n",
            "Time (CPU seconds):             0.13\n",
            "Time (Wallclock seconds):       0.14\n",
            "\n",
            "Total time (CPU seconds):       0.13   (Wallclock seconds):       0.14\n",
            "\n",
            "Solver status:  ok\n",
            "Solver termination condition:  optimal\n"
          ]
        }
      ],
      "source": [
        "opt = SolverFactory('cbc')\n",
        "result=opt.solve(model,tee=True)\n",
        "print('Solver status: ',result.solver.status)\n",
        "print('Solver termination condition: ',result.solver.termination_condition)"
      ]
    },
    {
      "cell_type": "code",
      "execution_count": 8,
      "metadata": {
        "id": "AyQFxatzajk2"
      },
      "outputs": [
        {
          "name": "stdout",
          "output_type": "stream",
          "text": [
            "Optimal N 7.0\n"
          ]
        }
      ],
      "source": [
        "print('Optimal N',model.obj())"
      ]
    }
  ],
  "metadata": {
    "colab": {
      "provenance": []
    },
    "kernelspec": {
      "display_name": "Python 3",
      "name": "python3"
    },
    "language_info": {
      "codemirror_mode": {
        "name": "ipython",
        "version": 3
      },
      "file_extension": ".py",
      "mimetype": "text/x-python",
      "name": "python",
      "nbconvert_exporter": "python",
      "pygments_lexer": "ipython3",
      "version": "3.11.4"
    }
  },
  "nbformat": 4,
  "nbformat_minor": 0
}
